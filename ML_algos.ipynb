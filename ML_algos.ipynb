{
 "cells": [
  {
   "cell_type": "markdown",
   "metadata": {},
   "source": [
    "# Testing various ML algorithms on Pima Indian Diabetes dataset"
   ]
  },
  {
   "cell_type": "code",
   "execution_count": 1,
   "metadata": {
    "collapsed": true
   },
   "outputs": [],
   "source": [
    "import pandas as pd\n",
    "from sklearn.model_selection import train_test_split\n",
    "import numpy as np\n",
    "import matplotlib.pyplot as plt\n",
    "import seaborn as sns; sns.set()\n",
    "from sklearn import metrics\n",
    "%matplotlib inline\n",
    "\n",
    "col_names = ['pregnant', 'glucose', 'bp', 'skin', 'insulin', 'bmi', 'pedigree', 'age', 'label']\n",
    "pima = pd.read_csv(\"diabetes.csv\")\n",
    "pima.columns = col_names"
   ]
  },
  {
   "cell_type": "code",
   "execution_count": 2,
   "metadata": {},
   "outputs": [
    {
     "data": {
      "text/html": [
       "<div>\n",
       "<style scoped>\n",
       "    .dataframe tbody tr th:only-of-type {\n",
       "        vertical-align: middle;\n",
       "    }\n",
       "\n",
       "    .dataframe tbody tr th {\n",
       "        vertical-align: top;\n",
       "    }\n",
       "\n",
       "    .dataframe thead th {\n",
       "        text-align: right;\n",
       "    }\n",
       "</style>\n",
       "<table border=\"1\" class=\"dataframe\">\n",
       "  <thead>\n",
       "    <tr style=\"text-align: right;\">\n",
       "      <th></th>\n",
       "      <th>pregnant</th>\n",
       "      <th>glucose</th>\n",
       "      <th>bp</th>\n",
       "      <th>skin</th>\n",
       "      <th>insulin</th>\n",
       "      <th>bmi</th>\n",
       "      <th>pedigree</th>\n",
       "      <th>age</th>\n",
       "      <th>label</th>\n",
       "    </tr>\n",
       "  </thead>\n",
       "  <tbody>\n",
       "    <tr>\n",
       "      <th>0</th>\n",
       "      <td>6</td>\n",
       "      <td>148</td>\n",
       "      <td>72</td>\n",
       "      <td>35</td>\n",
       "      <td>0</td>\n",
       "      <td>33.6</td>\n",
       "      <td>0.627</td>\n",
       "      <td>50</td>\n",
       "      <td>1</td>\n",
       "    </tr>\n",
       "    <tr>\n",
       "      <th>1</th>\n",
       "      <td>1</td>\n",
       "      <td>85</td>\n",
       "      <td>66</td>\n",
       "      <td>29</td>\n",
       "      <td>0</td>\n",
       "      <td>26.6</td>\n",
       "      <td>0.351</td>\n",
       "      <td>31</td>\n",
       "      <td>0</td>\n",
       "    </tr>\n",
       "    <tr>\n",
       "      <th>2</th>\n",
       "      <td>8</td>\n",
       "      <td>183</td>\n",
       "      <td>64</td>\n",
       "      <td>0</td>\n",
       "      <td>0</td>\n",
       "      <td>23.3</td>\n",
       "      <td>0.672</td>\n",
       "      <td>32</td>\n",
       "      <td>1</td>\n",
       "    </tr>\n",
       "    <tr>\n",
       "      <th>3</th>\n",
       "      <td>1</td>\n",
       "      <td>89</td>\n",
       "      <td>66</td>\n",
       "      <td>23</td>\n",
       "      <td>94</td>\n",
       "      <td>28.1</td>\n",
       "      <td>0.167</td>\n",
       "      <td>21</td>\n",
       "      <td>0</td>\n",
       "    </tr>\n",
       "    <tr>\n",
       "      <th>4</th>\n",
       "      <td>0</td>\n",
       "      <td>137</td>\n",
       "      <td>40</td>\n",
       "      <td>35</td>\n",
       "      <td>168</td>\n",
       "      <td>43.1</td>\n",
       "      <td>2.288</td>\n",
       "      <td>33</td>\n",
       "      <td>1</td>\n",
       "    </tr>\n",
       "  </tbody>\n",
       "</table>\n",
       "</div>"
      ],
      "text/plain": [
       "   pregnant  glucose  bp  skin  insulin   bmi  pedigree  age  label\n",
       "0         6      148  72    35        0  33.6     0.627   50      1\n",
       "1         1       85  66    29        0  26.6     0.351   31      0\n",
       "2         8      183  64     0        0  23.3     0.672   32      1\n",
       "3         1       89  66    23       94  28.1     0.167   21      0\n",
       "4         0      137  40    35      168  43.1     2.288   33      1"
      ]
     },
     "execution_count": 2,
     "metadata": {},
     "output_type": "execute_result"
    }
   ],
   "source": [
    "pima.head()"
   ]
  },
  {
   "cell_type": "code",
   "execution_count": 3,
   "metadata": {},
   "outputs": [],
   "source": [
    "feature_cols = ['pregnant', 'insulin', 'bmi', 'age','glucose','bp','pedigree']\n",
    "X = pima[feature_cols]\n",
    "y = pima.label\n",
    "\n",
    "Xtrain, Xtest, ytrain, ytest = train_test_split(X, y, test_size=0.33, random_state=0)"
   ]
  },
  {
   "cell_type": "markdown",
   "metadata": {},
   "source": [
    "# Gaussian Naive Bayes Classifier"
   ]
  },
  {
   "cell_type": "code",
   "execution_count": 4,
   "metadata": {},
   "outputs": [
    {
     "name": "stdout",
     "output_type": "stream",
     "text": [
      "Accuracy: 0.7598425196850394\n",
      "Confusion Matrix:\n",
      " [[150  20]\n",
      " [ 41  43]]\n",
      "Classification Report:\n",
      "               precision    recall  f1-score   support\n",
      "\n",
      "           0       0.88      0.79      0.83       191\n",
      "           1       0.51      0.68      0.59        63\n",
      "\n",
      "   micro avg       0.76      0.76      0.76       254\n",
      "   macro avg       0.70      0.73      0.71       254\n",
      "weighted avg       0.79      0.76      0.77       254\n",
      "\n"
     ]
    }
   ],
   "source": [
    "from sklearn.naive_bayes import GaussianNB\n",
    "clf = GaussianNB()\n",
    "clf.fit(Xtrain, ytrain)\n",
    "\n",
    "ypred = clf.predict(Xtest)\n",
    "# (true labels, predicted)\n",
    "print(\"Accuracy:\", metrics.accuracy_score(ytest, ypred))\n",
    "# (true labels, predicted)\n",
    "print(\"Confusion Matrix:\\n\", metrics.confusion_matrix(ytest, ypred))\n",
    "# (predicted, true labels)\n",
    "print(\"Classification Report:\\n\", metrics.classification_report(ypred, ytest))"
   ]
  },
  {
   "cell_type": "markdown",
   "metadata": {},
   "source": [
    "# Multinomial Naive Bayes Classifier"
   ]
  },
  {
   "cell_type": "code",
   "execution_count": 5,
   "metadata": {},
   "outputs": [
    {
     "name": "stdout",
     "output_type": "stream",
     "text": [
      "Accuracy: 0.6062992125984252\n",
      "Confusion Matrix:\n",
      " [[122  48]\n",
      " [ 52  32]]\n",
      "Classification Report:\n",
      "               precision    recall  f1-score   support\n",
      "\n",
      "           0       0.72      0.70      0.71       174\n",
      "           1       0.38      0.40      0.39        80\n",
      "\n",
      "   micro avg       0.61      0.61      0.61       254\n",
      "   macro avg       0.55      0.55      0.55       254\n",
      "weighted avg       0.61      0.61      0.61       254\n",
      "\n"
     ]
    }
   ],
   "source": [
    "from sklearn.naive_bayes import MultinomialNB\n",
    "clf = MultinomialNB()\n",
    "clf.fit(Xtrain, ytrain)\n",
    "\n",
    "ypred = clf.predict(Xtest)\n",
    "# (true labels, predicted)\n",
    "print(\"Accuracy:\", metrics.accuracy_score(ytest, ypred))\n",
    "# (true labels, predicted)\n",
    "print(\"Confusion Matrix:\\n\", metrics.confusion_matrix(ytest, ypred))\n",
    "# (predicted, true labels)\n",
    "print(\"Classification Report:\\n\", metrics.classification_report(ypred, ytest))"
   ]
  },
  {
   "cell_type": "markdown",
   "metadata": {},
   "source": [
    "# Bernoulli Naive Bayes Classifier"
   ]
  },
  {
   "cell_type": "code",
   "execution_count": 6,
   "metadata": {},
   "outputs": [
    {
     "name": "stdout",
     "output_type": "stream",
     "text": [
      "Accuracy: 0.6653543307086615\n",
      "Confusion Matrix:\n",
      " [[169   1]\n",
      " [ 84   0]]\n",
      "Classification Report:\n",
      "               precision    recall  f1-score   support\n",
      "\n",
      "           0       0.99      0.67      0.80       253\n",
      "           1       0.00      0.00      0.00         1\n",
      "\n",
      "   micro avg       0.67      0.67      0.67       254\n",
      "   macro avg       0.50      0.33      0.40       254\n",
      "weighted avg       0.99      0.67      0.80       254\n",
      "\n"
     ]
    }
   ],
   "source": [
    "from sklearn.naive_bayes import BernoulliNB\n",
    "clf = BernoulliNB()\n",
    "clf.fit(Xtrain, ytrain)\n",
    "\n",
    "ypred = clf.predict(Xtest)\n",
    "# (true labels, predicted)\n",
    "print(\"Accuracy:\", metrics.accuracy_score(ytest, ypred))\n",
    "# (true labels, predicted)\n",
    "print(\"Confusion Matrix:\\n\", metrics.confusion_matrix(ytest, ypred))\n",
    "# (predicted, true labels)\n",
    "print(\"Classification Report:\\n\", metrics.classification_report(ypred, ytest))"
   ]
  },
  {
   "cell_type": "markdown",
   "metadata": {},
   "source": [
    "# K-Nearest Neighbors Classifier"
   ]
  },
  {
   "cell_type": "code",
   "execution_count": 7,
   "metadata": {},
   "outputs": [
    {
     "name": "stdout",
     "output_type": "stream",
     "text": [
      "Accuracy: 0.7086614173228346\n",
      "Confusion Matrix:\n",
      " [[138  32]\n",
      " [ 42  42]]\n",
      "Classification Report:\n",
      "               precision    recall  f1-score   support\n",
      "\n",
      "           0       0.81      0.77      0.79       180\n",
      "           1       0.50      0.57      0.53        74\n",
      "\n",
      "   micro avg       0.71      0.71      0.71       254\n",
      "   macro avg       0.66      0.67      0.66       254\n",
      "weighted avg       0.72      0.71      0.71       254\n",
      "\n"
     ]
    }
   ],
   "source": [
    "from sklearn.neighbors import KNeighborsClassifier\n",
    "clf = KNeighborsClassifier(n_neighbors=3)\n",
    "clf.fit(Xtrain, ytrain)\n",
    "\n",
    "ypred = clf.predict(Xtest)\n",
    "# (true labels, predicted)\n",
    "print(\"Accuracy:\", metrics.accuracy_score(ytest, ypred))\n",
    "# (true labels, predicted)\n",
    "print(\"Confusion Matrix:\\n\", metrics.confusion_matrix(ytest, ypred))\n",
    "# (predicted, true labels)\n",
    "print(\"Classification Report:\\n\", metrics.classification_report(ypred, ytest))"
   ]
  },
  {
   "cell_type": "markdown",
   "metadata": {},
   "source": [
    "# Multinomial Logistic Regression"
   ]
  },
  {
   "cell_type": "code",
   "execution_count": 8,
   "metadata": {},
   "outputs": [
    {
     "name": "stdout",
     "output_type": "stream",
     "text": [
      "Accuracy: 0.7834645669291339\n",
      "Confusion Matrix:\n",
      " [[154  16]\n",
      " [ 39  45]]\n",
      "Classification Report:\n",
      "               precision    recall  f1-score   support\n",
      "\n",
      "           0       0.91      0.80      0.85       193\n",
      "           1       0.54      0.74      0.62        61\n",
      "\n",
      "   micro avg       0.78      0.78      0.78       254\n",
      "   macro avg       0.72      0.77      0.73       254\n",
      "weighted avg       0.82      0.78      0.79       254\n",
      "\n"
     ]
    },
    {
     "name": "stderr",
     "output_type": "stream",
     "text": [
      "/Users/adeshgautam/anaconda3/lib/python3.6/site-packages/sklearn/linear_model/logistic.py:758: ConvergenceWarning: lbfgs failed to converge. Increase the number of iterations.\n",
      "  \"of iterations.\", ConvergenceWarning)\n"
     ]
    }
   ],
   "source": [
    "from sklearn.linear_model import LogisticRegression\n",
    "clf = LogisticRegression(C=1e5, solver='lbfgs', multi_class='multinomial')\n",
    "clf.fit(Xtrain, ytrain)\n",
    "\n",
    "ypred = clf.predict(Xtest)\n",
    "# (true labels, predicted)\n",
    "print(\"Accuracy:\", metrics.accuracy_score(ytest, ypred))\n",
    "# (true labels, predicted)\n",
    "print(\"Confusion Matrix:\\n\", metrics.confusion_matrix(ytest, ypred))\n",
    "# (predicted, true labels)\n",
    "print(\"Classification Report:\\n\", metrics.classification_report(ypred, ytest))"
   ]
  },
  {
   "cell_type": "markdown",
   "metadata": {},
   "source": [
    "# Support Vector Classifier"
   ]
  },
  {
   "cell_type": "code",
   "execution_count": 9,
   "metadata": {},
   "outputs": [
    {
     "name": "stdout",
     "output_type": "stream",
     "text": [
      "Accuracy: 0.6692913385826772\n",
      "Confusion Matrix:\n",
      " [[170   0]\n",
      " [ 84   0]]\n",
      "Classification Report:\n",
      "               precision    recall  f1-score   support\n",
      "\n",
      "           0       1.00      0.67      0.80       254\n",
      "           1       0.00      0.00      0.00         0\n",
      "\n",
      "   micro avg       0.67      0.67      0.67       254\n",
      "   macro avg       0.50      0.33      0.40       254\n",
      "weighted avg       1.00      0.67      0.80       254\n",
      "\n"
     ]
    },
    {
     "name": "stderr",
     "output_type": "stream",
     "text": [
      "/Users/adeshgautam/anaconda3/lib/python3.6/site-packages/sklearn/metrics/classification.py:1145: UndefinedMetricWarning: Recall and F-score are ill-defined and being set to 0.0 in labels with no true samples.\n",
      "  'recall', 'true', average, warn_for)\n"
     ]
    }
   ],
   "source": [
    "from sklearn.svm import SVC\n",
    "clf = SVC(gamma='auto')\n",
    "clf.fit(Xtrain, ytrain)\n",
    "\n",
    "ypred = clf.predict(Xtest)\n",
    "# (true labels, predicted)\n",
    "print(\"Accuracy:\", metrics.accuracy_score(ytest, ypred))\n",
    "# (true labels, predicted)\n",
    "print(\"Confusion Matrix:\\n\", metrics.confusion_matrix(ytest, ypred))\n",
    "# (predicted, true labels)\n",
    "print(\"Classification Report:\\n\", metrics.classification_report(ypred, ytest))"
   ]
  },
  {
   "cell_type": "markdown",
   "metadata": {},
   "source": [
    "# Multi-layer Neural Networks"
   ]
  },
  {
   "cell_type": "code",
   "execution_count": 10,
   "metadata": {},
   "outputs": [
    {
     "name": "stdout",
     "output_type": "stream",
     "text": [
      "Accuracy: 0.7440944881889764\n",
      "Confusion Matrix:\n",
      " [[147  23]\n",
      " [ 42  42]]\n",
      "Classification Report:\n",
      "               precision    recall  f1-score   support\n",
      "\n",
      "           0       0.86      0.78      0.82       189\n",
      "           1       0.50      0.65      0.56        65\n",
      "\n",
      "   micro avg       0.74      0.74      0.74       254\n",
      "   macro avg       0.68      0.71      0.69       254\n",
      "weighted avg       0.77      0.74      0.75       254\n",
      "\n"
     ]
    }
   ],
   "source": [
    "from sklearn.neural_network import MLPClassifier\n",
    "clf = MLPClassifier(solver='lbfgs', alpha=1e-5, \n",
    "                    hidden_layer_sizes=(10, 5), random_state=1)\n",
    "\n",
    "clf.fit(Xtrain, ytrain)\n",
    "\n",
    "ypred = clf.predict(Xtest)\n",
    "# (true labels, predicted)\n",
    "print(\"Accuracy:\", metrics.accuracy_score(ytest, ypred))\n",
    "# (true labels, predicted)\n",
    "print(\"Confusion Matrix:\\n\", metrics.confusion_matrix(ytest, ypred))\n",
    "# (predicted, true labels)\n",
    "print(\"Classification Report:\\n\", metrics.classification_report(ypred, ytest))"
   ]
  }
 ],
 "metadata": {
  "kernelspec": {
   "display_name": "Python 3",
   "language": "python",
   "name": "python3"
  },
  "language_info": {
   "codemirror_mode": {
    "name": "ipython",
    "version": 3
   },
   "file_extension": ".py",
   "mimetype": "text/x-python",
   "name": "python",
   "nbconvert_exporter": "python",
   "pygments_lexer": "ipython3",
   "version": "3.6.1"
  }
 },
 "nbformat": 4,
 "nbformat_minor": 2
}
